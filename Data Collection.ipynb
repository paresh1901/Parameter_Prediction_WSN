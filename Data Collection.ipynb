{
 "cells": [
  {
   "cell_type": "code",
   "execution_count": 10,
   "metadata": {},
   "outputs": [],
   "source": [
    "import numpy as np\n",
    "import pandas as pd\n",
    "import urllib.request\n",
    "import gzip\n",
    "import shutil"
   ]
  },
  {
   "cell_type": "code",
   "execution_count": 11,
   "metadata": {},
   "outputs": [
    {
     "data": {
      "text/html": [
       "<div>\n",
       "<style scoped>\n",
       "    .dataframe tbody tr th:only-of-type {\n",
       "        vertical-align: middle;\n",
       "    }\n",
       "\n",
       "    .dataframe tbody tr th {\n",
       "        vertical-align: top;\n",
       "    }\n",
       "\n",
       "    .dataframe thead th {\n",
       "        text-align: right;\n",
       "    }\n",
       "</style>\n",
       "<table border=\"1\" class=\"dataframe\">\n",
       "  <thead>\n",
       "    <tr style=\"text-align: right;\">\n",
       "      <th></th>\n",
       "      <th>2004-03-31 03:38:15.757551 2 1 122.153 -3.91901 11.04 2.03397</th>\n",
       "    </tr>\n",
       "  </thead>\n",
       "  <tbody>\n",
       "    <tr>\n",
       "      <th>0</th>\n",
       "      <td>2004-02-28 00:59:16.02785 3 1 19.9884 37.0933 ...</td>\n",
       "    </tr>\n",
       "    <tr>\n",
       "      <th>1</th>\n",
       "      <td>2004-02-28 01:03:16.33393 11 1 19.3024 38.4629...</td>\n",
       "    </tr>\n",
       "    <tr>\n",
       "      <th>2</th>\n",
       "      <td>2004-02-28 01:06:16.013453 17 1 19.1652 38.803...</td>\n",
       "    </tr>\n",
       "    <tr>\n",
       "      <th>3</th>\n",
       "      <td>2004-02-28 01:06:46.778088 18 1 19.175 38.8379...</td>\n",
       "    </tr>\n",
       "    <tr>\n",
       "      <th>4</th>\n",
       "      <td>2004-02-28 01:08:45.992524 22 1 19.1456 38.940...</td>\n",
       "    </tr>\n",
       "  </tbody>\n",
       "</table>\n",
       "</div>"
      ],
      "text/plain": [
       "  2004-03-31 03:38:15.757551 2 1 122.153 -3.91901 11.04 2.03397\n",
       "0  2004-02-28 00:59:16.02785 3 1 19.9884 37.0933 ...           \n",
       "1  2004-02-28 01:03:16.33393 11 1 19.3024 38.4629...           \n",
       "2  2004-02-28 01:06:16.013453 17 1 19.1652 38.803...           \n",
       "3  2004-02-28 01:06:46.778088 18 1 19.175 38.8379...           \n",
       "4  2004-02-28 01:08:45.992524 22 1 19.1456 38.940...           "
      ]
     },
     "execution_count": 11,
     "metadata": {},
     "output_type": "execute_result"
    }
   ],
   "source": [
    "# Download the dataset\n",
    "url = \"http://db.csail.mit.edu/labdata/data.txt.gz\"\n",
    "urllib.request.urlretrieve(url, \"dataset/dataset.txt.gz\")\n",
    "\n",
    "# Unzip the downloaded file\n",
    "with gzip.open('dataset/dataset.txt.gz', 'rb') as f_in, open('dataset/dataset.txt', 'wb') as f_out:\n",
    "    shutil.copyfileobj(f_in, f_out)\n",
    "\n",
    "# Load the unzipped data into a pandas DataFrame\n",
    "df = pd.read_csv(\"dataset/dataset.txt\", sep='\\t')\n",
    "\n",
    "# Save the data to a .csv file\n",
    "df.to_csv(\"dataset/dataset.csv\", index=False)\n",
    "df.head()"
   ]
  },
  {
   "cell_type": "code",
   "execution_count": 12,
   "metadata": {},
   "outputs": [
    {
     "data": {
      "text/html": [
       "<div>\n",
       "<style scoped>\n",
       "    .dataframe tbody tr th:only-of-type {\n",
       "        vertical-align: middle;\n",
       "    }\n",
       "\n",
       "    .dataframe tbody tr th {\n",
       "        vertical-align: top;\n",
       "    }\n",
       "\n",
       "    .dataframe thead th {\n",
       "        text-align: right;\n",
       "    }\n",
       "</style>\n",
       "<table border=\"1\" class=\"dataframe\">\n",
       "  <thead>\n",
       "    <tr style=\"text-align: right;\">\n",
       "      <th></th>\n",
       "      <th>date</th>\n",
       "      <th>time</th>\n",
       "      <th>epoch</th>\n",
       "      <th>moteid</th>\n",
       "      <th>temp</th>\n",
       "      <th>humidity</th>\n",
       "      <th>light</th>\n",
       "      <th>voltage</th>\n",
       "    </tr>\n",
       "  </thead>\n",
       "  <tbody>\n",
       "    <tr>\n",
       "      <th>0</th>\n",
       "      <td>2004-03-31</td>\n",
       "      <td>03:38:15.757551</td>\n",
       "      <td>2</td>\n",
       "      <td>1</td>\n",
       "      <td>122.153</td>\n",
       "      <td>-3.91901</td>\n",
       "      <td>11.04</td>\n",
       "      <td>2.03397</td>\n",
       "    </tr>\n",
       "    <tr>\n",
       "      <th>1</th>\n",
       "      <td>2004-02-28</td>\n",
       "      <td>00:59:16.02785</td>\n",
       "      <td>3</td>\n",
       "      <td>1</td>\n",
       "      <td>19.9884</td>\n",
       "      <td>37.0933</td>\n",
       "      <td>45.08</td>\n",
       "      <td>2.69964</td>\n",
       "    </tr>\n",
       "    <tr>\n",
       "      <th>2</th>\n",
       "      <td>2004-02-28</td>\n",
       "      <td>01:03:16.33393</td>\n",
       "      <td>11</td>\n",
       "      <td>1</td>\n",
       "      <td>19.3024</td>\n",
       "      <td>38.4629</td>\n",
       "      <td>45.08</td>\n",
       "      <td>2.68742</td>\n",
       "    </tr>\n",
       "    <tr>\n",
       "      <th>3</th>\n",
       "      <td>2004-02-28</td>\n",
       "      <td>01:06:16.013453</td>\n",
       "      <td>17</td>\n",
       "      <td>1</td>\n",
       "      <td>19.1652</td>\n",
       "      <td>38.8039</td>\n",
       "      <td>45.08</td>\n",
       "      <td>2.68742</td>\n",
       "    </tr>\n",
       "    <tr>\n",
       "      <th>4</th>\n",
       "      <td>2004-02-28</td>\n",
       "      <td>01:06:46.778088</td>\n",
       "      <td>18</td>\n",
       "      <td>1</td>\n",
       "      <td>19.175</td>\n",
       "      <td>38.8379</td>\n",
       "      <td>45.08</td>\n",
       "      <td>2.69964</td>\n",
       "    </tr>\n",
       "  </tbody>\n",
       "</table>\n",
       "</div>"
      ],
      "text/plain": [
       "         date             time epoch moteid     temp  humidity  light  voltage\n",
       "0  2004-03-31  03:38:15.757551     2      1  122.153  -3.91901  11.04  2.03397\n",
       "1  2004-02-28   00:59:16.02785     3      1  19.9884   37.0933  45.08  2.69964\n",
       "2  2004-02-28   01:03:16.33393    11      1  19.3024   38.4629  45.08  2.68742\n",
       "3  2004-02-28  01:06:16.013453    17      1  19.1652   38.8039  45.08  2.68742\n",
       "4  2004-02-28  01:06:46.778088    18      1   19.175   38.8379  45.08  2.69964"
      ]
     },
     "execution_count": 12,
     "metadata": {},
     "output_type": "execute_result"
    }
   ],
   "source": [
    "data = pd.read_csv(\"dataset/dataset.csv\", sep = ' ',header = None, names = ['date', 'time','epoch','moteid','temp','humidity','light','voltage'],index_col=False, dtype='unicode')\n",
    "data.head()"
   ]
  },
  {
   "cell_type": "code",
   "execution_count": 13,
   "metadata": {},
   "outputs": [
    {
     "data": {
      "text/plain": [
       "(2313682, 8)"
      ]
     },
     "execution_count": 13,
     "metadata": {},
     "output_type": "execute_result"
    }
   ],
   "source": [
    "data.shape"
   ]
  },
  {
   "cell_type": "code",
   "execution_count": 14,
   "metadata": {},
   "outputs": [
    {
     "data": {
      "text/plain": [
       "Index(['date', 'time', 'epoch', 'moteid', 'temp', 'humidity', 'light',\n",
       "       'voltage'],\n",
       "      dtype='object')"
      ]
     },
     "execution_count": 14,
     "metadata": {},
     "output_type": "execute_result"
    }
   ],
   "source": [
    "data.columns"
   ]
  },
  {
   "cell_type": "code",
   "execution_count": 15,
   "metadata": {},
   "outputs": [],
   "source": [
    "data.to_csv('dataset/raw_data.csv', index= False)"
   ]
  }
 ],
 "metadata": {
  "kernelspec": {
   "display_name": "Python 3",
   "language": "python",
   "name": "python3"
  },
  "language_info": {
   "codemirror_mode": {
    "name": "ipython",
    "version": 3
   },
   "file_extension": ".py",
   "mimetype": "text/x-python",
   "name": "python",
   "nbconvert_exporter": "python",
   "pygments_lexer": "ipython3",
   "version": "3.10.10"
  },
  "orig_nbformat": 4
 },
 "nbformat": 4,
 "nbformat_minor": 2
}
